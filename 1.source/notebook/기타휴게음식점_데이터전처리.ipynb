{
  "nbformat": 4,
  "nbformat_minor": 0,
  "metadata": {
    "colab": {
      "provenance": []
    },
    "kernelspec": {
      "name": "python3",
      "display_name": "Python 3"
    },
    "language_info": {
      "name": "python"
    }
  },
  "cells": [
    {
      "cell_type": "markdown",
      "source": [
        "# 데이터 전처리"
      ],
      "metadata": {
        "id": "gQeUk32fF4Xu"
      }
    },
    {
      "cell_type": "code",
      "source": [
        "import pandas as pd\n",
        "\n",
        "# 파일 오픈\n",
        "first_df = pd.read_csv('rawdata_기타휴게음식점.csv',encoding='cp949')"
      ],
      "metadata": {
        "colab": {
          "base_uri": "https://localhost:8080/"
        },
        "id": "o_xxgfN0b_-u",
        "outputId": "3135a37c-3f53-4017-c2e5-2eaf99a578fa"
      },
      "execution_count": null,
      "outputs": [
        {
          "output_type": "stream",
          "name": "stderr",
          "text": [
            "<ipython-input-2-32feb349b326>:3: DtypeWarning: Columns (11,39,44,45) have mixed types. Specify dtype option on import or set low_memory=False.\n",
            "  first_df = pd.read_csv('/content/drive/MyDrive/프로젝트 - 2403/fulldata_07_24_05_P_휴게음식점.csv',encoding='cp949')\n"
          ]
        }
      ]
    },
    {
      "cell_type": "code",
      "source": [
        "# 원본 파일을 유지하기 위해 복사본 사용\n",
        "df = first_df.copy()"
      ],
      "metadata": {
        "id": "IBatO2f8JKDi"
      },
      "execution_count": null,
      "outputs": []
    },
    {
      "cell_type": "code",
      "source": [
        "# 컬럼명 확인\n",
        "df.columns"
      ],
      "metadata": {
        "colab": {
          "base_uri": "https://localhost:8080/"
        },
        "id": "aEDTm2Q3FrJq",
        "outputId": "a06c51dd-7ae7-432b-9477-89e3024a880d"
      },
      "execution_count": null,
      "outputs": [
        {
          "output_type": "execute_result",
          "data": {
            "text/plain": [
              "Index(['번호', '개방서비스명', '개방서비스아이디', '개방자치단체코드', '관리번호', '인허가일자', '인허가취소일자',\n",
              "       '영업상태구분코드', '영업상태명', '상세영업상태코드', '상세영업상태명', '폐업일자', '휴업시작일자', '휴업종료일자',\n",
              "       '재개업일자', '소재지전화', '소재지면적', '소재지우편번호', '소재지전체주소', '도로명전체주소', '도로명우편번호',\n",
              "       '사업장명', '최종수정시점', '데이터갱신구분', '데이터갱신일자', '업태구분명', '좌표정보(x)', '좌표정보(y)',\n",
              "       '위생업태명', '남성종사자수', '여성종사자수', '영업장주변구분명', '등급구분명', '급수시설구분명', '총직원수',\n",
              "       '본사직원수', '공장사무직직원수', '공장판매직직원수', '공장생산직직원수', '건물소유구분명', '보증액', '월세액',\n",
              "       '다중이용업소여부', '시설총규모', '전통업소지정번호', '전통업소주된음식', '홈페이지', 'Unnamed: 47'],\n",
              "      dtype='object')"
            ]
          },
          "metadata": {},
          "execution_count": 4
        }
      ]
    },
    {
      "cell_type": "code",
      "source": [
        "# 데이터 확인\n",
        "pd.DataFrame(df)"
      ],
      "metadata": {
        "id": "YsJAS1gJcYib",
        "colab": {
          "base_uri": "https://localhost:8080/",
          "height": 1000
        },
        "outputId": "1214e64e-586c-4f46-d2ce-e8e782932d38"
      },
      "execution_count": null,
      "outputs": [
        {
          "output_type": "execute_result",
          "data": {
            "text/plain": [
              "            번호 개방서비스명    개방서비스아이디  개방자치단체코드                    관리번호  \\\n",
              "0            1  휴게음식점  07_24_05_P   3010000  3010000-104-2023-00307   \n",
              "1            2  휴게음식점  07_24_05_P   3740000  5610000-104-2023-00264   \n",
              "2            3  휴게음식점  07_24_05_P   3740000  3770000-104-2023-00174   \n",
              "3            4  휴게음식점  07_24_05_P   4050000  5620000-104-2023-00182   \n",
              "4            5  휴게음식점  07_24_05_P   3410000  3410000-104-2023-00209   \n",
              "...        ...    ...         ...       ...                     ...   \n",
              "560001  560002  휴게음식점  07_24_05_P   3610000  3610000-104-2018-00018   \n",
              "560002  560003  휴게음식점  07_24_05_P   3610000  3610000-104-2018-00027   \n",
              "560003  560004  휴게음식점  07_24_05_P   3610000  3610000-104-2018-00031   \n",
              "560004  560005  휴게음식점  07_24_05_P   3610000  3610000-104-2017-00085   \n",
              "560005  560006  휴게음식점  07_24_05_P   3600000  3600000-104-2010-00022   \n",
              "\n",
              "             인허가일자  인허가취소일자  영업상태구분코드  영업상태명  상세영업상태코드  ... 공장생산직직원수 건물소유구분명  \\\n",
              "0       2023-11-24      NaN         3     폐업         2  ...      0.0     NaN   \n",
              "1       2023-11-20      NaN         3     폐업         2  ...      0.0     NaN   \n",
              "2       2023-11-20      NaN         3     폐업         2  ...      0.0     NaN   \n",
              "3       2023-11-15      NaN         3     폐업         2  ...      0.0     NaN   \n",
              "4       2023-11-15      NaN         3     폐업         2  ...      0.0     NaN   \n",
              "...            ...      ...       ...    ...       ...  ...      ...     ...   \n",
              "560001  2018-03-14      NaN         1  영업/정상         1  ...      NaN     NaN   \n",
              "560002  2018-04-10      NaN         1  영업/정상         1  ...      NaN     NaN   \n",
              "560003  2018-04-19      NaN         1  영업/정상         1  ...      NaN     NaN   \n",
              "560004  2017-12-18      NaN         1  영업/정상         1  ...      NaN     NaN   \n",
              "560005  2010-03-16      NaN         1  영업/정상         1  ...      NaN     NaN   \n",
              "\n",
              "        보증액  월세액  다중이용업소여부  시설총규모  전통업소지정번호 전통업소주된음식 홈페이지 Unnamed: 47  \n",
              "0       0.0  0.0         N  10.00       NaN      NaN  NaN         NaN  \n",
              "1       0.0  0.0         N   0.00       NaN      NaN  NaN         NaN  \n",
              "2       0.0  0.0         N  28.00       NaN      NaN  NaN         NaN  \n",
              "3       0.0  0.0         N  60.00       NaN      NaN  NaN         NaN  \n",
              "4       0.0  0.0         N   0.00       NaN      NaN  NaN         NaN  \n",
              "...     ...  ...       ...    ...       ...      ...  ...         ...  \n",
              "560001  NaN  NaN         N   3.30       NaN      NaN  NaN         NaN  \n",
              "560002  NaN  NaN         N  56.10       NaN      NaN  NaN         NaN  \n",
              "560003  NaN  NaN         N  16.00       NaN      NaN  NaN         NaN  \n",
              "560004  NaN  NaN         N  12.00       NaN      NaN  NaN         NaN  \n",
              "560005  NaN  NaN         N   8.22       NaN      NaN  NaN         NaN  \n",
              "\n",
              "[560006 rows x 48 columns]"
            ],
            "text/html": [
              "\n",
              "  <div id=\"df-fdc5a5e1-46cc-4dce-83a7-d0ac98ba579a\" class=\"colab-df-container\">\n",
              "    <div>\n",
              "<style scoped>\n",
              "    .dataframe tbody tr th:only-of-type {\n",
              "        vertical-align: middle;\n",
              "    }\n",
              "\n",
              "    .dataframe tbody tr th {\n",
              "        vertical-align: top;\n",
              "    }\n",
              "\n",
              "    .dataframe thead th {\n",
              "        text-align: right;\n",
              "    }\n",
              "</style>\n",
              "<table border=\"1\" class=\"dataframe\">\n",
              "  <thead>\n",
              "    <tr style=\"text-align: right;\">\n",
              "      <th></th>\n",
              "      <th>번호</th>\n",
              "      <th>개방서비스명</th>\n",
              "      <th>개방서비스아이디</th>\n",
              "      <th>개방자치단체코드</th>\n",
              "      <th>관리번호</th>\n",
              "      <th>인허가일자</th>\n",
              "      <th>인허가취소일자</th>\n",
              "      <th>영업상태구분코드</th>\n",
              "      <th>영업상태명</th>\n",
              "      <th>상세영업상태코드</th>\n",
              "      <th>...</th>\n",
              "      <th>공장생산직직원수</th>\n",
              "      <th>건물소유구분명</th>\n",
              "      <th>보증액</th>\n",
              "      <th>월세액</th>\n",
              "      <th>다중이용업소여부</th>\n",
              "      <th>시설총규모</th>\n",
              "      <th>전통업소지정번호</th>\n",
              "      <th>전통업소주된음식</th>\n",
              "      <th>홈페이지</th>\n",
              "      <th>Unnamed: 47</th>\n",
              "    </tr>\n",
              "  </thead>\n",
              "  <tbody>\n",
              "    <tr>\n",
              "      <th>0</th>\n",
              "      <td>1</td>\n",
              "      <td>휴게음식점</td>\n",
              "      <td>07_24_05_P</td>\n",
              "      <td>3010000</td>\n",
              "      <td>3010000-104-2023-00307</td>\n",
              "      <td>2023-11-24</td>\n",
              "      <td>NaN</td>\n",
              "      <td>3</td>\n",
              "      <td>폐업</td>\n",
              "      <td>2</td>\n",
              "      <td>...</td>\n",
              "      <td>0.0</td>\n",
              "      <td>NaN</td>\n",
              "      <td>0.0</td>\n",
              "      <td>0.0</td>\n",
              "      <td>N</td>\n",
              "      <td>10.00</td>\n",
              "      <td>NaN</td>\n",
              "      <td>NaN</td>\n",
              "      <td>NaN</td>\n",
              "      <td>NaN</td>\n",
              "    </tr>\n",
              "    <tr>\n",
              "      <th>1</th>\n",
              "      <td>2</td>\n",
              "      <td>휴게음식점</td>\n",
              "      <td>07_24_05_P</td>\n",
              "      <td>3740000</td>\n",
              "      <td>5610000-104-2023-00264</td>\n",
              "      <td>2023-11-20</td>\n",
              "      <td>NaN</td>\n",
              "      <td>3</td>\n",
              "      <td>폐업</td>\n",
              "      <td>2</td>\n",
              "      <td>...</td>\n",
              "      <td>0.0</td>\n",
              "      <td>NaN</td>\n",
              "      <td>0.0</td>\n",
              "      <td>0.0</td>\n",
              "      <td>N</td>\n",
              "      <td>0.00</td>\n",
              "      <td>NaN</td>\n",
              "      <td>NaN</td>\n",
              "      <td>NaN</td>\n",
              "      <td>NaN</td>\n",
              "    </tr>\n",
              "    <tr>\n",
              "      <th>2</th>\n",
              "      <td>3</td>\n",
              "      <td>휴게음식점</td>\n",
              "      <td>07_24_05_P</td>\n",
              "      <td>3740000</td>\n",
              "      <td>3770000-104-2023-00174</td>\n",
              "      <td>2023-11-20</td>\n",
              "      <td>NaN</td>\n",
              "      <td>3</td>\n",
              "      <td>폐업</td>\n",
              "      <td>2</td>\n",
              "      <td>...</td>\n",
              "      <td>0.0</td>\n",
              "      <td>NaN</td>\n",
              "      <td>0.0</td>\n",
              "      <td>0.0</td>\n",
              "      <td>N</td>\n",
              "      <td>28.00</td>\n",
              "      <td>NaN</td>\n",
              "      <td>NaN</td>\n",
              "      <td>NaN</td>\n",
              "      <td>NaN</td>\n",
              "    </tr>\n",
              "    <tr>\n",
              "      <th>3</th>\n",
              "      <td>4</td>\n",
              "      <td>휴게음식점</td>\n",
              "      <td>07_24_05_P</td>\n",
              "      <td>4050000</td>\n",
              "      <td>5620000-104-2023-00182</td>\n",
              "      <td>2023-11-15</td>\n",
              "      <td>NaN</td>\n",
              "      <td>3</td>\n",
              "      <td>폐업</td>\n",
              "      <td>2</td>\n",
              "      <td>...</td>\n",
              "      <td>0.0</td>\n",
              "      <td>NaN</td>\n",
              "      <td>0.0</td>\n",
              "      <td>0.0</td>\n",
              "      <td>N</td>\n",
              "      <td>60.00</td>\n",
              "      <td>NaN</td>\n",
              "      <td>NaN</td>\n",
              "      <td>NaN</td>\n",
              "      <td>NaN</td>\n",
              "    </tr>\n",
              "    <tr>\n",
              "      <th>4</th>\n",
              "      <td>5</td>\n",
              "      <td>휴게음식점</td>\n",
              "      <td>07_24_05_P</td>\n",
              "      <td>3410000</td>\n",
              "      <td>3410000-104-2023-00209</td>\n",
              "      <td>2023-11-15</td>\n",
              "      <td>NaN</td>\n",
              "      <td>3</td>\n",
              "      <td>폐업</td>\n",
              "      <td>2</td>\n",
              "      <td>...</td>\n",
              "      <td>0.0</td>\n",
              "      <td>NaN</td>\n",
              "      <td>0.0</td>\n",
              "      <td>0.0</td>\n",
              "      <td>N</td>\n",
              "      <td>0.00</td>\n",
              "      <td>NaN</td>\n",
              "      <td>NaN</td>\n",
              "      <td>NaN</td>\n",
              "      <td>NaN</td>\n",
              "    </tr>\n",
              "    <tr>\n",
              "      <th>...</th>\n",
              "      <td>...</td>\n",
              "      <td>...</td>\n",
              "      <td>...</td>\n",
              "      <td>...</td>\n",
              "      <td>...</td>\n",
              "      <td>...</td>\n",
              "      <td>...</td>\n",
              "      <td>...</td>\n",
              "      <td>...</td>\n",
              "      <td>...</td>\n",
              "      <td>...</td>\n",
              "      <td>...</td>\n",
              "      <td>...</td>\n",
              "      <td>...</td>\n",
              "      <td>...</td>\n",
              "      <td>...</td>\n",
              "      <td>...</td>\n",
              "      <td>...</td>\n",
              "      <td>...</td>\n",
              "      <td>...</td>\n",
              "      <td>...</td>\n",
              "    </tr>\n",
              "    <tr>\n",
              "      <th>560001</th>\n",
              "      <td>560002</td>\n",
              "      <td>휴게음식점</td>\n",
              "      <td>07_24_05_P</td>\n",
              "      <td>3610000</td>\n",
              "      <td>3610000-104-2018-00018</td>\n",
              "      <td>2018-03-14</td>\n",
              "      <td>NaN</td>\n",
              "      <td>1</td>\n",
              "      <td>영업/정상</td>\n",
              "      <td>1</td>\n",
              "      <td>...</td>\n",
              "      <td>NaN</td>\n",
              "      <td>NaN</td>\n",
              "      <td>NaN</td>\n",
              "      <td>NaN</td>\n",
              "      <td>N</td>\n",
              "      <td>3.30</td>\n",
              "      <td>NaN</td>\n",
              "      <td>NaN</td>\n",
              "      <td>NaN</td>\n",
              "      <td>NaN</td>\n",
              "    </tr>\n",
              "    <tr>\n",
              "      <th>560002</th>\n",
              "      <td>560003</td>\n",
              "      <td>휴게음식점</td>\n",
              "      <td>07_24_05_P</td>\n",
              "      <td>3610000</td>\n",
              "      <td>3610000-104-2018-00027</td>\n",
              "      <td>2018-04-10</td>\n",
              "      <td>NaN</td>\n",
              "      <td>1</td>\n",
              "      <td>영업/정상</td>\n",
              "      <td>1</td>\n",
              "      <td>...</td>\n",
              "      <td>NaN</td>\n",
              "      <td>NaN</td>\n",
              "      <td>NaN</td>\n",
              "      <td>NaN</td>\n",
              "      <td>N</td>\n",
              "      <td>56.10</td>\n",
              "      <td>NaN</td>\n",
              "      <td>NaN</td>\n",
              "      <td>NaN</td>\n",
              "      <td>NaN</td>\n",
              "    </tr>\n",
              "    <tr>\n",
              "      <th>560003</th>\n",
              "      <td>560004</td>\n",
              "      <td>휴게음식점</td>\n",
              "      <td>07_24_05_P</td>\n",
              "      <td>3610000</td>\n",
              "      <td>3610000-104-2018-00031</td>\n",
              "      <td>2018-04-19</td>\n",
              "      <td>NaN</td>\n",
              "      <td>1</td>\n",
              "      <td>영업/정상</td>\n",
              "      <td>1</td>\n",
              "      <td>...</td>\n",
              "      <td>NaN</td>\n",
              "      <td>NaN</td>\n",
              "      <td>NaN</td>\n",
              "      <td>NaN</td>\n",
              "      <td>N</td>\n",
              "      <td>16.00</td>\n",
              "      <td>NaN</td>\n",
              "      <td>NaN</td>\n",
              "      <td>NaN</td>\n",
              "      <td>NaN</td>\n",
              "    </tr>\n",
              "    <tr>\n",
              "      <th>560004</th>\n",
              "      <td>560005</td>\n",
              "      <td>휴게음식점</td>\n",
              "      <td>07_24_05_P</td>\n",
              "      <td>3610000</td>\n",
              "      <td>3610000-104-2017-00085</td>\n",
              "      <td>2017-12-18</td>\n",
              "      <td>NaN</td>\n",
              "      <td>1</td>\n",
              "      <td>영업/정상</td>\n",
              "      <td>1</td>\n",
              "      <td>...</td>\n",
              "      <td>NaN</td>\n",
              "      <td>NaN</td>\n",
              "      <td>NaN</td>\n",
              "      <td>NaN</td>\n",
              "      <td>N</td>\n",
              "      <td>12.00</td>\n",
              "      <td>NaN</td>\n",
              "      <td>NaN</td>\n",
              "      <td>NaN</td>\n",
              "      <td>NaN</td>\n",
              "    </tr>\n",
              "    <tr>\n",
              "      <th>560005</th>\n",
              "      <td>560006</td>\n",
              "      <td>휴게음식점</td>\n",
              "      <td>07_24_05_P</td>\n",
              "      <td>3600000</td>\n",
              "      <td>3600000-104-2010-00022</td>\n",
              "      <td>2010-03-16</td>\n",
              "      <td>NaN</td>\n",
              "      <td>1</td>\n",
              "      <td>영업/정상</td>\n",
              "      <td>1</td>\n",
              "      <td>...</td>\n",
              "      <td>NaN</td>\n",
              "      <td>NaN</td>\n",
              "      <td>NaN</td>\n",
              "      <td>NaN</td>\n",
              "      <td>N</td>\n",
              "      <td>8.22</td>\n",
              "      <td>NaN</td>\n",
              "      <td>NaN</td>\n",
              "      <td>NaN</td>\n",
              "      <td>NaN</td>\n",
              "    </tr>\n",
              "  </tbody>\n",
              "</table>\n",
              "<p>560006 rows × 48 columns</p>\n",
              "</div>\n",
              "    <div class=\"colab-df-buttons\">\n",
              "\n",
              "  <div class=\"colab-df-container\">\n",
              "    <button class=\"colab-df-convert\" onclick=\"convertToInteractive('df-fdc5a5e1-46cc-4dce-83a7-d0ac98ba579a')\"\n",
              "            title=\"Convert this dataframe to an interactive table.\"\n",
              "            style=\"display:none;\">\n",
              "\n",
              "  <svg xmlns=\"http://www.w3.org/2000/svg\" height=\"24px\" viewBox=\"0 -960 960 960\">\n",
              "    <path d=\"M120-120v-720h720v720H120Zm60-500h600v-160H180v160Zm220 220h160v-160H400v160Zm0 220h160v-160H400v160ZM180-400h160v-160H180v160Zm440 0h160v-160H620v160ZM180-180h160v-160H180v160Zm440 0h160v-160H620v160Z\"/>\n",
              "  </svg>\n",
              "    </button>\n",
              "\n",
              "  <style>\n",
              "    .colab-df-container {\n",
              "      display:flex;\n",
              "      gap: 12px;\n",
              "    }\n",
              "\n",
              "    .colab-df-convert {\n",
              "      background-color: #E8F0FE;\n",
              "      border: none;\n",
              "      border-radius: 50%;\n",
              "      cursor: pointer;\n",
              "      display: none;\n",
              "      fill: #1967D2;\n",
              "      height: 32px;\n",
              "      padding: 0 0 0 0;\n",
              "      width: 32px;\n",
              "    }\n",
              "\n",
              "    .colab-df-convert:hover {\n",
              "      background-color: #E2EBFA;\n",
              "      box-shadow: 0px 1px 2px rgba(60, 64, 67, 0.3), 0px 1px 3px 1px rgba(60, 64, 67, 0.15);\n",
              "      fill: #174EA6;\n",
              "    }\n",
              "\n",
              "    .colab-df-buttons div {\n",
              "      margin-bottom: 4px;\n",
              "    }\n",
              "\n",
              "    [theme=dark] .colab-df-convert {\n",
              "      background-color: #3B4455;\n",
              "      fill: #D2E3FC;\n",
              "    }\n",
              "\n",
              "    [theme=dark] .colab-df-convert:hover {\n",
              "      background-color: #434B5C;\n",
              "      box-shadow: 0px 1px 3px 1px rgba(0, 0, 0, 0.15);\n",
              "      filter: drop-shadow(0px 1px 2px rgba(0, 0, 0, 0.3));\n",
              "      fill: #FFFFFF;\n",
              "    }\n",
              "  </style>\n",
              "\n",
              "    <script>\n",
              "      const buttonEl =\n",
              "        document.querySelector('#df-fdc5a5e1-46cc-4dce-83a7-d0ac98ba579a button.colab-df-convert');\n",
              "      buttonEl.style.display =\n",
              "        google.colab.kernel.accessAllowed ? 'block' : 'none';\n",
              "\n",
              "      async function convertToInteractive(key) {\n",
              "        const element = document.querySelector('#df-fdc5a5e1-46cc-4dce-83a7-d0ac98ba579a');\n",
              "        const dataTable =\n",
              "          await google.colab.kernel.invokeFunction('convertToInteractive',\n",
              "                                                    [key], {});\n",
              "        if (!dataTable) return;\n",
              "\n",
              "        const docLinkHtml = 'Like what you see? Visit the ' +\n",
              "          '<a target=\"_blank\" href=https://colab.research.google.com/notebooks/data_table.ipynb>data table notebook</a>'\n",
              "          + ' to learn more about interactive tables.';\n",
              "        element.innerHTML = '';\n",
              "        dataTable['output_type'] = 'display_data';\n",
              "        await google.colab.output.renderOutput(dataTable, element);\n",
              "        const docLink = document.createElement('div');\n",
              "        docLink.innerHTML = docLinkHtml;\n",
              "        element.appendChild(docLink);\n",
              "      }\n",
              "    </script>\n",
              "  </div>\n",
              "\n",
              "\n",
              "<div id=\"df-6dfcb870-f5ca-482e-9a3c-f4665abfaa53\">\n",
              "  <button class=\"colab-df-quickchart\" onclick=\"quickchart('df-6dfcb870-f5ca-482e-9a3c-f4665abfaa53')\"\n",
              "            title=\"Suggest charts\"\n",
              "            style=\"display:none;\">\n",
              "\n",
              "<svg xmlns=\"http://www.w3.org/2000/svg\" height=\"24px\"viewBox=\"0 0 24 24\"\n",
              "     width=\"24px\">\n",
              "    <g>\n",
              "        <path d=\"M19 3H5c-1.1 0-2 .9-2 2v14c0 1.1.9 2 2 2h14c1.1 0 2-.9 2-2V5c0-1.1-.9-2-2-2zM9 17H7v-7h2v7zm4 0h-2V7h2v10zm4 0h-2v-4h2v4z\"/>\n",
              "    </g>\n",
              "</svg>\n",
              "  </button>\n",
              "\n",
              "<style>\n",
              "  .colab-df-quickchart {\n",
              "      --bg-color: #E8F0FE;\n",
              "      --fill-color: #1967D2;\n",
              "      --hover-bg-color: #E2EBFA;\n",
              "      --hover-fill-color: #174EA6;\n",
              "      --disabled-fill-color: #AAA;\n",
              "      --disabled-bg-color: #DDD;\n",
              "  }\n",
              "\n",
              "  [theme=dark] .colab-df-quickchart {\n",
              "      --bg-color: #3B4455;\n",
              "      --fill-color: #D2E3FC;\n",
              "      --hover-bg-color: #434B5C;\n",
              "      --hover-fill-color: #FFFFFF;\n",
              "      --disabled-bg-color: #3B4455;\n",
              "      --disabled-fill-color: #666;\n",
              "  }\n",
              "\n",
              "  .colab-df-quickchart {\n",
              "    background-color: var(--bg-color);\n",
              "    border: none;\n",
              "    border-radius: 50%;\n",
              "    cursor: pointer;\n",
              "    display: none;\n",
              "    fill: var(--fill-color);\n",
              "    height: 32px;\n",
              "    padding: 0;\n",
              "    width: 32px;\n",
              "  }\n",
              "\n",
              "  .colab-df-quickchart:hover {\n",
              "    background-color: var(--hover-bg-color);\n",
              "    box-shadow: 0 1px 2px rgba(60, 64, 67, 0.3), 0 1px 3px 1px rgba(60, 64, 67, 0.15);\n",
              "    fill: var(--button-hover-fill-color);\n",
              "  }\n",
              "\n",
              "  .colab-df-quickchart-complete:disabled,\n",
              "  .colab-df-quickchart-complete:disabled:hover {\n",
              "    background-color: var(--disabled-bg-color);\n",
              "    fill: var(--disabled-fill-color);\n",
              "    box-shadow: none;\n",
              "  }\n",
              "\n",
              "  .colab-df-spinner {\n",
              "    border: 2px solid var(--fill-color);\n",
              "    border-color: transparent;\n",
              "    border-bottom-color: var(--fill-color);\n",
              "    animation:\n",
              "      spin 1s steps(1) infinite;\n",
              "  }\n",
              "\n",
              "  @keyframes spin {\n",
              "    0% {\n",
              "      border-color: transparent;\n",
              "      border-bottom-color: var(--fill-color);\n",
              "      border-left-color: var(--fill-color);\n",
              "    }\n",
              "    20% {\n",
              "      border-color: transparent;\n",
              "      border-left-color: var(--fill-color);\n",
              "      border-top-color: var(--fill-color);\n",
              "    }\n",
              "    30% {\n",
              "      border-color: transparent;\n",
              "      border-left-color: var(--fill-color);\n",
              "      border-top-color: var(--fill-color);\n",
              "      border-right-color: var(--fill-color);\n",
              "    }\n",
              "    40% {\n",
              "      border-color: transparent;\n",
              "      border-right-color: var(--fill-color);\n",
              "      border-top-color: var(--fill-color);\n",
              "    }\n",
              "    60% {\n",
              "      border-color: transparent;\n",
              "      border-right-color: var(--fill-color);\n",
              "    }\n",
              "    80% {\n",
              "      border-color: transparent;\n",
              "      border-right-color: var(--fill-color);\n",
              "      border-bottom-color: var(--fill-color);\n",
              "    }\n",
              "    90% {\n",
              "      border-color: transparent;\n",
              "      border-bottom-color: var(--fill-color);\n",
              "    }\n",
              "  }\n",
              "</style>\n",
              "\n",
              "  <script>\n",
              "    async function quickchart(key) {\n",
              "      const quickchartButtonEl =\n",
              "        document.querySelector('#' + key + ' button');\n",
              "      quickchartButtonEl.disabled = true;  // To prevent multiple clicks.\n",
              "      quickchartButtonEl.classList.add('colab-df-spinner');\n",
              "      try {\n",
              "        const charts = await google.colab.kernel.invokeFunction(\n",
              "            'suggestCharts', [key], {});\n",
              "      } catch (error) {\n",
              "        console.error('Error during call to suggestCharts:', error);\n",
              "      }\n",
              "      quickchartButtonEl.classList.remove('colab-df-spinner');\n",
              "      quickchartButtonEl.classList.add('colab-df-quickchart-complete');\n",
              "    }\n",
              "    (() => {\n",
              "      let quickchartButtonEl =\n",
              "        document.querySelector('#df-6dfcb870-f5ca-482e-9a3c-f4665abfaa53 button');\n",
              "      quickchartButtonEl.style.display =\n",
              "        google.colab.kernel.accessAllowed ? 'block' : 'none';\n",
              "    })();\n",
              "  </script>\n",
              "</div>\n",
              "\n",
              "    </div>\n",
              "  </div>\n"
            ],
            "application/vnd.google.colaboratory.intrinsic+json": {
              "type": "dataframe"
            }
          },
          "metadata": {},
          "execution_count": 5
        }
      ]
    },
    {
      "cell_type": "code",
      "source": [
        "# '소재지전체주소' '도로명전체주소'에서 각 행의 문자열 값이 '서울특별시' 포함하는지 여주 확인\n",
        "df = df[(df['소재지전체주소'].astype(str).str.contains('서울특별시', na=False)) | (df['도로명전체주소'].astype(str).str.contains('서울특별시', na=False))]"
      ],
      "metadata": {
        "id": "7tx2n0lgf67d"
      },
      "execution_count": null,
      "outputs": []
    },
    {
      "cell_type": "code",
      "source": [
        "# 인덱스 리셋\n",
        "df = df.reset_index()"
      ],
      "metadata": {
        "id": "7QgfVpP8wkj8"
      },
      "execution_count": null,
      "outputs": []
    },
    {
      "cell_type": "code",
      "source": [
        "# 행정구 데이터 분리\n",
        "df['구'] = \"\"\n",
        "for i in range(len(df)):\n",
        "    if pd.notnull(df['도로명전체주소'][i]):\n",
        "        df['구'][i] = df['도로명전체주소'][i].split()[1]\n",
        "    elif not pd.isna(df['소재지전체주소'][i]):\n",
        "        df['구'][i] = df['소재지전체주소'][i].split()[1]\n",
        "    else:\n",
        "        pass"
      ],
      "metadata": {
        "colab": {
          "base_uri": "https://localhost:8080/"
        },
        "id": "O1M4flg6uQ5j",
        "outputId": "503f2ca6-2ccc-443c-c281-bb438f9b124a"
      },
      "execution_count": null,
      "outputs": [
        {
          "output_type": "stream",
          "name": "stderr",
          "text": [
            "<ipython-input-8-3be75d56b66e>:4: SettingWithCopyWarning: \n",
            "A value is trying to be set on a copy of a slice from a DataFrame\n",
            "\n",
            "See the caveats in the documentation: https://pandas.pydata.org/pandas-docs/stable/user_guide/indexing.html#returning-a-view-versus-a-copy\n",
            "  df['구'][i] = df['도로명전체주소'][i].split()[1]\n",
            "<ipython-input-8-3be75d56b66e>:6: SettingWithCopyWarning: \n",
            "A value is trying to be set on a copy of a slice from a DataFrame\n",
            "\n",
            "See the caveats in the documentation: https://pandas.pydata.org/pandas-docs/stable/user_guide/indexing.html#returning-a-view-versus-a-copy\n",
            "  df['구'][i] = df['소재지전체주소'][i].split()[1]\n"
          ]
        }
      ]
    },
    {
      "cell_type": "code",
      "source": [
        "# 결측값이 있는지 확인한다\n",
        "df['구'].isna().sum()"
      ],
      "metadata": {
        "colab": {
          "base_uri": "https://localhost:8080/"
        },
        "id": "m7ViVm9e3wVx",
        "outputId": "2da64a6d-22f2-4b7e-a8d2-86f2401b637f"
      },
      "execution_count": null,
      "outputs": [
        {
          "output_type": "execute_result",
          "data": {
            "text/plain": [
              "0"
            ]
          },
          "metadata": {},
          "execution_count": 9
        }
      ]
    },
    {
      "cell_type": "code",
      "source": [
        "df['인허가일자'].info()"
      ],
      "metadata": {
        "colab": {
          "base_uri": "https://localhost:8080/"
        },
        "id": "HTQU-IOG396e",
        "outputId": "fc944310-f383-4de6-fd23-fcfb7846af40"
      },
      "execution_count": null,
      "outputs": [
        {
          "output_type": "stream",
          "name": "stdout",
          "text": [
            "<class 'pandas.core.series.Series'>\n",
            "RangeIndex: 129185 entries, 0 to 129184\n",
            "Series name: 인허가일자\n",
            "Non-Null Count   Dtype \n",
            "--------------   ----- \n",
            "129185 non-null  object\n",
            "dtypes: object(1)\n",
            "memory usage: 1009.4+ KB\n"
          ]
        }
      ]
    },
    {
      "cell_type": "code",
      "source": [
        "# '폐업' 열의 데이터 타입을 날짜 형식으로 변환\n",
        "df['폐업일자'] = pd.to_datetime(df['폐업일자'])\n",
        "\n",
        "# '폐업일자'에서 년도, 월 추출\n",
        "df['폐업_년'] = df['폐업일자'].dt.year.astype('Int64')\n",
        "df['폐업_월'] = df['폐업일자'].dt.month.astype('Int64')"
      ],
      "metadata": {
        "id": "56N4TvNl4SnC"
      },
      "execution_count": null,
      "outputs": []
    },
    {
      "cell_type": "code",
      "source": [
        "# '인허가일자' 열의 데이터 타입을 날짜 형식으로 변환\n",
        "df['인허가일자'] = pd.to_datetime(df['인허가일자'])\n",
        "\n",
        "# '인허가일자'에서 년도, 월 추출\n",
        "df['인허가_년'] = df['인허가일자'].dt.year\n",
        "df['인허가_월'] = df['인허가일자'].dt.month"
      ],
      "metadata": {
        "id": "tJy2hF8F8kev"
      },
      "execution_count": null,
      "outputs": []
    },
    {
      "cell_type": "code",
      "source": [
        "# 영업상태 종류 확인\n",
        "df['영업상태구분코드'].value_counts()"
      ],
      "metadata": {
        "colab": {
          "base_uri": "https://localhost:8080/"
        },
        "id": "Jor7GTKf6_xb",
        "outputId": "f1f9324f-ab1a-481b-978b-ca38b3a0970b"
      },
      "execution_count": null,
      "outputs": [
        {
          "output_type": "execute_result",
          "data": {
            "text/plain": [
              "3    90778\n",
              "1    38407\n",
              "Name: 영업상태구분코드, dtype: int64"
            ]
          },
          "metadata": {},
          "execution_count": 14
        }
      ]
    },
    {
      "cell_type": "code",
      "source": [
        "# 편의성을 위해 영업상태코드 3을 2로 수정\n",
        "df.loc[df['영업상태구분코드'] == 3, '영업상태구분코드'] = 2"
      ],
      "metadata": {
        "id": "vyZLOxbf7GSh"
      },
      "execution_count": null,
      "outputs": []
    },
    {
      "cell_type": "code",
      "source": [
        "# 업체 종류 확인\n",
        "df['업태구분명'].value_counts()"
      ],
      "metadata": {
        "colab": {
          "base_uri": "https://localhost:8080/"
        },
        "id": "eWQxg6_J9HfA",
        "outputId": "cf0423c2-936d-4516-efcd-a82f99232cea"
      },
      "execution_count": null,
      "outputs": [
        {
          "output_type": "execute_result",
          "data": {
            "text/plain": [
              "커피숍         35300\n",
              "일반조리판매      20484\n",
              "기타 휴게음식점    20247\n",
              "다방          17664\n",
              "편의점         11763\n",
              "과자점          8626\n",
              "패스트푸드        8069\n",
              "백화점          3797\n",
              "푸드트럭         1104\n",
              "아이스크림         653\n",
              "철도역구내         472\n",
              "전통찻집          393\n",
              "떡카페           235\n",
              "키즈카페          156\n",
              "관광호텔           82\n",
              "유원지            76\n",
              "극장             30\n",
              "공항             18\n",
              "고속도로           10\n",
              "룸살롱             1\n",
              "김밥(도시락)         1\n",
              "기타              1\n",
              "한식              1\n",
              "호프/통닭           1\n",
              "단란주점            1\n",
              "Name: 업태구분명, dtype: int64"
            ]
          },
          "metadata": {},
          "execution_count": 16
        }
      ]
    },
    {
      "cell_type": "code",
      "source": [
        "# 취합할 데이터 선택 후\n",
        "# 업태구분명이 커피숍/다방/기타휴게음식점 인 곳을 선택\n",
        "select_data = ['영업상태구분코드', '영업상태명', '업태구분명', '구', '폐업_년', '폐업_월', '인허가_년', '인허가_월']\n",
        "final_df = df.loc[(df['업태구분명'] == '커피숍') | (df['업태구분명'] == '다방') | (df['업태구분명'] == '기타 휴게음식점'), select_data]"
      ],
      "metadata": {
        "id": "kRXiw5ZpcJUc"
      },
      "execution_count": null,
      "outputs": []
    },
    {
      "cell_type": "code",
      "source": [
        "# 기타 휴게음식점에서 커피류 판매하는 곳 찾아보기\n",
        "find_df.loc[df['업태구분명']=='기타 휴게음식점', ['사업장명']].value_counts()"
      ],
      "metadata": {
        "id": "IfSBubyDIW3a",
        "colab": {
          "base_uri": "https://localhost:8080/"
        },
        "outputId": "641a1683-0a2d-447c-a798-d8596dc77e10"
      },
      "execution_count": null,
      "outputs": [
        {
          "output_type": "execute_result",
          "data": {
            "text/plain": [
              "사업장명       \n",
              "요거프레소          19\n",
              "약속             15\n",
              "마이빈(한시적)       14\n",
              "리은푸드           14\n",
              "커피마마           13\n",
              "               ..\n",
              "버즈              1\n",
              "버블티킹(신촌점)       1\n",
              "버블톡 암사(시장)점     1\n",
              "버블톡 성균관대점       1\n",
              "힘키즈             1\n",
              "Length: 8911, dtype: int64"
            ]
          },
          "metadata": {},
          "execution_count": 22
        }
      ]
    },
    {
      "cell_type": "code",
      "source": [
        "# 특정 키워드를 가진 기타 휴게음식점 + 다방 + 커피숍\n",
        "find_df = find_df[(find_df['사업장명'].astype(str).str.contains('커피', na=False)) |\n",
        " (find_df['사업장명'].astype(str).str.contains('카페', na=False))\n",
        " |(find_df['사업장명'].astype(str).str.contains('매머드', na=False))\n",
        " |(find_df['사업장명'].astype(str).str.contains('메가', na=False))\n",
        " |(find_df['사업장명'].astype(str).str.contains('스타벅스', na=False))\n",
        " |(find_df['사업장명'].astype(str).str.contains('다방', na=False))\n",
        " |(find_df['사업장명'].astype(str).str.contains('프레소', na=False))\n",
        " |(find_df['사업장명'].astype(str).str.contains('이디야', na=False))\n",
        " |(find_df['사업장명'].astype(str).str.contains('폴바셋', na=False))\n",
        " |(find_df['사업장명'].astype(str).str.contains('버블', na=False))\n",
        " |(find_df['사업장명'].astype(str).str.contains('투썸', na=False))\n",
        " |(find_df['사업장명'].astype(str).str.contains('아마스빈', na=False))\n",
        " |(find_df['업태구분명'].astype(str).str.contains('다방', na=False))\n",
        " |(find_df['업태구분명'].astype(str).str.contains('커피숍', na=False))\n",
        "]"
      ],
      "metadata": {
        "id": "Vddp4a1vesOy"
      },
      "execution_count": null,
      "outputs": []
    },
    {
      "cell_type": "code",
      "source": [
        "# 고유값 확인을 통해 제대로 정제됐는지 확인\n",
        "unique_arr = cafe_df['사업장명'].unique()\n",
        "for u in unique_arr:\n",
        "  print(u)"
      ],
      "metadata": {
        "id": "Eazz6xMNku2A"
      },
      "execution_count": null,
      "outputs": []
    },
    {
      "cell_type": "code",
      "source": [
        "# 정수화 + 정렬의 용이함을 위해 데이터 타입 변경\n",
        "find_df['폐업_년'].astype('Int64')\n",
        "find_df['폐업_월'].astype('Int64')"
      ],
      "metadata": {
        "colab": {
          "base_uri": "https://localhost:8080/"
        },
        "id": "OY0xIfaimNnP",
        "outputId": "f744ccfb-4d68-4695-9481-f9ea7c44fe35"
      },
      "execution_count": null,
      "outputs": [
        {
          "output_type": "execute_result",
          "data": {
            "text/plain": [
              "0           1\n",
              "4          12\n",
              "13         12\n",
              "14         11\n",
              "19         10\n",
              "         ... \n",
              "73203    <NA>\n",
              "73204    <NA>\n",
              "73205    <NA>\n",
              "73207    <NA>\n",
              "73210    <NA>\n",
              "Name: 폐업_월, Length: 54978, dtype: Int64"
            ]
          },
          "metadata": {},
          "execution_count": 30
        }
      ]
    },
    {
      "cell_type": "code",
      "source": [
        "# 파일 저장\n",
        "find_df.to_csv('기타휴게음식점_정제.csv',encoding='utf-8',index=False )"
      ],
      "metadata": {
        "id": "qfdaFLgplPEe"
      },
      "execution_count": null,
      "outputs": []
    }
  ]
}